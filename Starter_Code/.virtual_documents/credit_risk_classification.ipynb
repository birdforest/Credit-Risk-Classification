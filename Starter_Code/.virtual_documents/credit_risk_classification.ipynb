# Import the modules
import numpy as np
import pandas as pd
from pathlib import Path
from sklearn.metrics import confusion_matrix, classification_report
from sklearn.linear_model import LogisticRegression











# Read the CSV file from the Resources folder into a Pandas DataFrame
file_path = Path('Resources/lending_data.csv')
data = pd.read_csv(file_path)

# Review the DataFrame
data.head()





# Separate the data into labels and features

# Separate the y variable, the labels
y = data['loan_status']

# Separate the X variable, the features
X = data.drop(columns=['loan_status'])


# Review the y variable Series
print(y.head())


# Review the X variable DataFrame
print(X.head())





# Import the train_test_learn module
from sklearn.model_selection import train_test_split

# Split the data using train_test_split
# Assign a random_state of 1 to the function
X_train, X_test, y_train, y_test = train_test_split(X, y, test_size=0.25, random_state=1)











# Import the LogisticRegression module from SKLearn
from sklearn.linear_model import LogisticRegression

# Instantiate the Logistic Regression model
# Assign a random_state parameter of 1 to the model
model = LogisticRegression(random_state=1)

# Fit the model using training data
model.fit(X_train, y_train)





# Make a prediction using the testing data
y_pred = model.predict(X_test)





# Generate a confusion matrix for the model
cm = confusion_matrix(y_test, y_pred)
print("Confusion Matrix:\n", cm)


# Print the classification report for the model
cr = classification_report(y_test, y_pred)
print("Classification Report:\n", cr)









